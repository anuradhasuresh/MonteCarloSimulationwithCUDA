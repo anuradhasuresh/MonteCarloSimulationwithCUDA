{
  "cells": [
    {
      "cell_type": "code",
      "execution_count": 7,
      "metadata": {
        "id": "A1B-ZcwxbWl-"
      },
      "outputs": [],
      "source": [
        "import cupy as cp\n",
        "import numpy as np\n",
        "import time"
      ]
    },
    {
      "cell_type": "code",
      "execution_count": 2,
      "metadata": {
        "colab": {
          "base_uri": "https://localhost:8080/"
        },
        "id": "TBfYTdx_bqDb",
        "outputId": "f67813c7-bb9a-4f99-a0c0-fc3d0a0cca92"
      },
      "outputs": [
        {
          "name": "stdout",
          "output_type": "stream",
          "text": [
            "Thu Jun 27 02:03:08 2024       \n",
            "+---------------------------------------------------------------------------------------+\n",
            "| NVIDIA-SMI 535.104.05             Driver Version: 535.104.05   CUDA Version: 12.2     |\n",
            "|-----------------------------------------+----------------------+----------------------+\n",
            "| GPU  Name                 Persistence-M | Bus-Id        Disp.A | Volatile Uncorr. ECC |\n",
            "| Fan  Temp   Perf          Pwr:Usage/Cap |         Memory-Usage | GPU-Util  Compute M. |\n",
            "|                                         |                      |               MIG M. |\n",
            "|=========================================+======================+======================|\n",
            "|   0  Tesla T4                       Off | 00000000:00:04.0 Off |                    0 |\n",
            "| N/A   52C    P8              12W /  70W |      0MiB / 15360MiB |      0%      Default |\n",
            "|                                         |                      |                  N/A |\n",
            "+-----------------------------------------+----------------------+----------------------+\n",
            "                                                                                         \n",
            "+---------------------------------------------------------------------------------------+\n",
            "| Processes:                                                                            |\n",
            "|  GPU   GI   CI        PID   Type   Process name                            GPU Memory |\n",
            "|        ID   ID                                                             Usage      |\n",
            "|=======================================================================================|\n",
            "|  No running processes found                                                           |\n",
            "+---------------------------------------------------------------------------------------+\n"
          ]
        }
      ],
      "source": [
        "!nvidia-smi"
      ]
    },
    {
      "cell_type": "code",
      "execution_count": 13,
      "metadata": {
        "id": "SqCTOoqCcA8z"
      },
      "outputs": [],
      "source": [
        "def estimate_pi_gpu(num_points):\n",
        "    # Initialize random number generator\n",
        "    rng = cp.random.default_rng()\n",
        "\n",
        "    # Run CUDA kernel\n",
        "    start_time = time.time()\n",
        "    inside_count = monte_carlo_pi(num_points, rng)\n",
        "    pi_estimate = 4 * inside_count / num_points\n",
        "    gpu_time = time.time() - start_time\n",
        "\n",
        "    print(f\"Estimated π (GPU): {pi_estimate}\")\n",
        "    print(f\"GPU time: {gpu_time:.4f} seconds\")\n",
        "\n",
        "# CUDA kernel to simulate points and count inside the circle \n",
        "@cp.fuse()\n",
        "def monte_carlo_pi(num_points, rng): \n",
        "    x = rng.random(num_points)  \n",
        "    y = rng.random(num_points)  \n",
        "    return cp.sum(x ** 2 + y** 2 < 1)"
      ]
    },
    {
      "cell_type": "code",
      "execution_count": 14,
      "metadata": {
        "colab": {
          "base_uri": "https://localhost:8080/"
        },
        "id": "rSLs17olcFsL",
        "outputId": "7da8fca9-225c-4304-ea44-a70a30fa1d09"
      },
      "outputs": [
        {
          "name": "stdout",
          "output_type": "stream",
          "text": [
            "Estimated π (GPU): 3.1425484\n",
            "GPU time: 0.3593 seconds\n"
          ]
        }
      ],
      "source": [
        "# Run simulation\n",
        "num_points = 10000000\n",
        "estimate_pi_gpu(num_points)\n"
      ]
    }
  ],
  "metadata": {
    "accelerator": "GPU",
    "colab": {
      "gpuType": "T4",
      "provenance": []
    },
    "kernelspec": {
      "display_name": "Python 3",
      "name": "python3"
    },
    "language_info": {
      "name": "python"
    }
  },
  "nbformat": 4,
  "nbformat_minor": 0
}
